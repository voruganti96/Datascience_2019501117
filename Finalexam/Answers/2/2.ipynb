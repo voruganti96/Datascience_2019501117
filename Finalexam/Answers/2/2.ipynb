{
 "cells": [
  {
   "cell_type": "code",
   "execution_count": 7,
   "metadata": {},
   "outputs": [],
   "source": [
    "import numpy as np\n",
    "import pandas as pd\n",
    "from apyori import apriori"
   ]
  },
  {
   "cell_type": "code",
   "execution_count": 9,
   "metadata": {},
   "outputs": [
    {
     "output_type": "execute_result",
     "data": {
      "text/plain": [
       "       0      1      2       3     4      5\n",
       "0   Wine  Chips  Bread  Butter  Milk  Apple\n",
       "1   Wine    NaN  Bread  Butter  Milk    NaN\n",
       "2    NaN    NaN  Bread  Butter  Milk    NaN\n",
       "3    NaN  Chips    NaN     NaN   NaN  Apple\n",
       "4   Wine  Chips  Bread  Butter  Milk  Apple\n",
       "5   Wine  Chips    NaN  Butter  Milk    NaN\n",
       "6   Wine  Chips  Bread  Butter   NaN  Apple\n",
       "7   Wine  Chips    NaN     NaN  Milk    NaN\n",
       "8   Wine    NaN  Bread     NaN   NaN  Apple\n",
       "9   Wine    NaN  Bread  Butter  Milk    NaN\n",
       "10   NaN  Chips  Bread  Butter   NaN  Apple\n",
       "11  Wine    NaN    NaN  Butter  Milk  Apple\n",
       "12  Wine  Chips  Bread  Butter  Milk    NaN\n",
       "13  Wine    NaN  Bread     NaN  Milk  Apple\n",
       "14  Wine    NaN  Bread  Butter  Milk  Apple\n",
       "15  Wine  Chips  Bread  Butter  Milk  Apple\n",
       "16   NaN  Chips  Bread  Butter  Milk  Apple\n",
       "17   NaN  Chips    NaN  Butter  Milk  Apple\n",
       "18  Wine  Chips  Bread  Butter  Milk  Apple\n",
       "19  Wine    NaN  Bread  Butter  Milk  Apple\n",
       "20  Wine  Chips  Bread     NaN  Milk  Apple\n",
       "21   NaN  Chips    NaN     NaN   NaN    NaN"
      ],
      "text/html": "<div>\n<style scoped>\n    .dataframe tbody tr th:only-of-type {\n        vertical-align: middle;\n    }\n\n    .dataframe tbody tr th {\n        vertical-align: top;\n    }\n\n    .dataframe thead th {\n        text-align: right;\n    }\n</style>\n<table border=\"1\" class=\"dataframe\">\n  <thead>\n    <tr style=\"text-align: right;\">\n      <th></th>\n      <th>0</th>\n      <th>1</th>\n      <th>2</th>\n      <th>3</th>\n      <th>4</th>\n      <th>5</th>\n    </tr>\n  </thead>\n  <tbody>\n    <tr>\n      <th>0</th>\n      <td>Wine</td>\n      <td>Chips</td>\n      <td>Bread</td>\n      <td>Butter</td>\n      <td>Milk</td>\n      <td>Apple</td>\n    </tr>\n    <tr>\n      <th>1</th>\n      <td>Wine</td>\n      <td>NaN</td>\n      <td>Bread</td>\n      <td>Butter</td>\n      <td>Milk</td>\n      <td>NaN</td>\n    </tr>\n    <tr>\n      <th>2</th>\n      <td>NaN</td>\n      <td>NaN</td>\n      <td>Bread</td>\n      <td>Butter</td>\n      <td>Milk</td>\n      <td>NaN</td>\n    </tr>\n    <tr>\n      <th>3</th>\n      <td>NaN</td>\n      <td>Chips</td>\n      <td>NaN</td>\n      <td>NaN</td>\n      <td>NaN</td>\n      <td>Apple</td>\n    </tr>\n    <tr>\n      <th>4</th>\n      <td>Wine</td>\n      <td>Chips</td>\n      <td>Bread</td>\n      <td>Butter</td>\n      <td>Milk</td>\n      <td>Apple</td>\n    </tr>\n    <tr>\n      <th>5</th>\n      <td>Wine</td>\n      <td>Chips</td>\n      <td>NaN</td>\n      <td>Butter</td>\n      <td>Milk</td>\n      <td>NaN</td>\n    </tr>\n    <tr>\n      <th>6</th>\n      <td>Wine</td>\n      <td>Chips</td>\n      <td>Bread</td>\n      <td>Butter</td>\n      <td>NaN</td>\n      <td>Apple</td>\n    </tr>\n    <tr>\n      <th>7</th>\n      <td>Wine</td>\n      <td>Chips</td>\n      <td>NaN</td>\n      <td>NaN</td>\n      <td>Milk</td>\n      <td>NaN</td>\n    </tr>\n    <tr>\n      <th>8</th>\n      <td>Wine</td>\n      <td>NaN</td>\n      <td>Bread</td>\n      <td>NaN</td>\n      <td>NaN</td>\n      <td>Apple</td>\n    </tr>\n    <tr>\n      <th>9</th>\n      <td>Wine</td>\n      <td>NaN</td>\n      <td>Bread</td>\n      <td>Butter</td>\n      <td>Milk</td>\n      <td>NaN</td>\n    </tr>\n    <tr>\n      <th>10</th>\n      <td>NaN</td>\n      <td>Chips</td>\n      <td>Bread</td>\n      <td>Butter</td>\n      <td>NaN</td>\n      <td>Apple</td>\n    </tr>\n    <tr>\n      <th>11</th>\n      <td>Wine</td>\n      <td>NaN</td>\n      <td>NaN</td>\n      <td>Butter</td>\n      <td>Milk</td>\n      <td>Apple</td>\n    </tr>\n    <tr>\n      <th>12</th>\n      <td>Wine</td>\n      <td>Chips</td>\n      <td>Bread</td>\n      <td>Butter</td>\n      <td>Milk</td>\n      <td>NaN</td>\n    </tr>\n    <tr>\n      <th>13</th>\n      <td>Wine</td>\n      <td>NaN</td>\n      <td>Bread</td>\n      <td>NaN</td>\n      <td>Milk</td>\n      <td>Apple</td>\n    </tr>\n    <tr>\n      <th>14</th>\n      <td>Wine</td>\n      <td>NaN</td>\n      <td>Bread</td>\n      <td>Butter</td>\n      <td>Milk</td>\n      <td>Apple</td>\n    </tr>\n    <tr>\n      <th>15</th>\n      <td>Wine</td>\n      <td>Chips</td>\n      <td>Bread</td>\n      <td>Butter</td>\n      <td>Milk</td>\n      <td>Apple</td>\n    </tr>\n    <tr>\n      <th>16</th>\n      <td>NaN</td>\n      <td>Chips</td>\n      <td>Bread</td>\n      <td>Butter</td>\n      <td>Milk</td>\n      <td>Apple</td>\n    </tr>\n    <tr>\n      <th>17</th>\n      <td>NaN</td>\n      <td>Chips</td>\n      <td>NaN</td>\n      <td>Butter</td>\n      <td>Milk</td>\n      <td>Apple</td>\n    </tr>\n    <tr>\n      <th>18</th>\n      <td>Wine</td>\n      <td>Chips</td>\n      <td>Bread</td>\n      <td>Butter</td>\n      <td>Milk</td>\n      <td>Apple</td>\n    </tr>\n    <tr>\n      <th>19</th>\n      <td>Wine</td>\n      <td>NaN</td>\n      <td>Bread</td>\n      <td>Butter</td>\n      <td>Milk</td>\n      <td>Apple</td>\n    </tr>\n    <tr>\n      <th>20</th>\n      <td>Wine</td>\n      <td>Chips</td>\n      <td>Bread</td>\n      <td>NaN</td>\n      <td>Milk</td>\n      <td>Apple</td>\n    </tr>\n    <tr>\n      <th>21</th>\n      <td>NaN</td>\n      <td>Chips</td>\n      <td>NaN</td>\n      <td>NaN</td>\n      <td>NaN</td>\n      <td>NaN</td>\n    </tr>\n  </tbody>\n</table>\n</div>"
     },
     "metadata": {},
     "execution_count": 9
    }
   ],
   "source": [
    "data= pd.read_csv(\"apriori_data.csv\",header =None)\n",
    "data"
   ]
  },
  {
   "cell_type": "code",
   "execution_count": 10,
   "metadata": {},
   "outputs": [],
   "source": [
    "records = []\n",
    "for i in range(0,22):\n",
    "    records.append([str(data.values[i,j])for j in range(0,6)])"
   ]
  },
  {
   "cell_type": "code",
   "execution_count": 11,
   "metadata": {},
   "outputs": [
    {
     "output_type": "stream",
     "name": "stdout",
     "text": [
      "23\n[RelationRecord(items=frozenset({'Bread'}), support=0.7272727272727273, ordered_statistics=[OrderedStatistic(items_base=frozenset(), items_add=frozenset({'Bread'}), confidence=0.7272727272727273, lift=1.0)]), RelationRecord(items=frozenset({'Butter'}), support=0.7272727272727273, ordered_statistics=[OrderedStatistic(items_base=frozenset(), items_add=frozenset({'Butter'}), confidence=0.7272727272727273, lift=1.0)]), RelationRecord(items=frozenset({'Milk'}), support=0.7727272727272727, ordered_statistics=[OrderedStatistic(items_base=frozenset(), items_add=frozenset({'Milk'}), confidence=0.7727272727272727, lift=1.0)]), RelationRecord(items=frozenset({'Wine'}), support=0.7272727272727273, ordered_statistics=[OrderedStatistic(items_base=frozenset(), items_add=frozenset({'Wine'}), confidence=0.7272727272727273, lift=1.0)]), RelationRecord(items=frozenset({'nan'}), support=0.8181818181818182, ordered_statistics=[OrderedStatistic(items_base=frozenset(), items_add=frozenset({'nan'}), confidence=0.8181818181818182, lift=1.0)]), RelationRecord(items=frozenset({'Bread', 'Apple'}), support=0.5454545454545454, ordered_statistics=[OrderedStatistic(items_base=frozenset({'Apple'}), items_add=frozenset({'Bread'}), confidence=0.8, lift=1.1), OrderedStatistic(items_base=frozenset({'Bread'}), items_add=frozenset({'Apple'}), confidence=0.7499999999999999, lift=1.0999999999999999)]), RelationRecord(items=frozenset({'Butter', 'Apple'}), support=0.5, ordered_statistics=[OrderedStatistic(items_base=frozenset({'Apple'}), items_add=frozenset({'Butter'}), confidence=0.7333333333333334, lift=1.0083333333333333)]), RelationRecord(items=frozenset({'Milk', 'Apple'}), support=0.5, ordered_statistics=[OrderedStatistic(items_base=frozenset({'Apple'}), items_add=frozenset({'Milk'}), confidence=0.7333333333333334, lift=0.9490196078431373)]), RelationRecord(items=frozenset({'Wine', 'Apple'}), support=0.5, ordered_statistics=[OrderedStatistic(items_base=frozenset({'Apple'}), items_add=frozenset({'Wine'}), confidence=0.7333333333333334, lift=1.0083333333333333)]), RelationRecord(items=frozenset({'nan', 'Apple'}), support=0.5, ordered_statistics=[OrderedStatistic(items_base=frozenset({'Apple'}), items_add=frozenset({'nan'}), confidence=0.7333333333333334, lift=0.8962962962962964)]), RelationRecord(items=frozenset({'Bread', 'Butter'}), support=0.5909090909090909, ordered_statistics=[OrderedStatistic(items_base=frozenset({'Bread'}), items_add=frozenset({'Butter'}), confidence=0.8125, lift=1.1171875), OrderedStatistic(items_base=frozenset({'Butter'}), items_add=frozenset({'Bread'}), confidence=0.8125, lift=1.1171875)]), RelationRecord(items=frozenset({'Bread', 'Milk'}), support=0.5909090909090909, ordered_statistics=[OrderedStatistic(items_base=frozenset({'Bread'}), items_add=frozenset({'Milk'}), confidence=0.8125, lift=1.0514705882352942), OrderedStatistic(items_base=frozenset({'Milk'}), items_add=frozenset({'Bread'}), confidence=0.7647058823529412, lift=1.0514705882352942)]), RelationRecord(items=frozenset({'Bread', 'Wine'}), support=0.5909090909090909, ordered_statistics=[OrderedStatistic(items_base=frozenset({'Bread'}), items_add=frozenset({'Wine'}), confidence=0.8125, lift=1.1171875), OrderedStatistic(items_base=frozenset({'Wine'}), items_add=frozenset({'Bread'}), confidence=0.8125, lift=1.1171875)]), RelationRecord(items=frozenset({'Bread', 'nan'}), support=0.5454545454545454, ordered_statistics=[OrderedStatistic(items_base=frozenset({'Bread'}), items_add=frozenset({'nan'}), confidence=0.7499999999999999, lift=0.9166666666666665)]), RelationRecord(items=frozenset({'Butter', 'Milk'}), support=0.6363636363636364, ordered_statistics=[OrderedStatistic(items_base=frozenset({'Butter'}), items_add=frozenset({'Milk'}), confidence=0.875, lift=1.1323529411764706), OrderedStatistic(items_base=frozenset({'Milk'}), items_add=frozenset({'Butter'}), confidence=0.8235294117647058, lift=1.1323529411764706)]), RelationRecord(items=frozenset({'Butter', 'Wine'}), support=0.5454545454545454, ordered_statistics=[OrderedStatistic(items_base=frozenset({'Butter'}), items_add=frozenset({'Wine'}), confidence=0.7499999999999999, lift=1.0312499999999998), OrderedStatistic(items_base=frozenset({'Wine'}), items_add=frozenset({'Butter'}), confidence=0.7499999999999999, lift=1.0312499999999998)]), RelationRecord(items=frozenset({'Butter', 'nan'}), support=0.5454545454545454, ordered_statistics=[OrderedStatistic(items_base=frozenset({'Butter'}), items_add=frozenset({'nan'}), confidence=0.7499999999999999, lift=0.9166666666666665)]), RelationRecord(items=frozenset({'Wine', 'Milk'}), support=0.6363636363636364, ordered_statistics=[OrderedStatistic(items_base=frozenset({'Milk'}), items_add=frozenset({'Wine'}), confidence=0.8235294117647058, lift=1.1323529411764706), OrderedStatistic(items_base=frozenset({'Wine'}), items_add=frozenset({'Milk'}), confidence=0.875, lift=1.1323529411764706)]), RelationRecord(items=frozenset({'Milk', 'nan'}), support=0.5909090909090909, ordered_statistics=[OrderedStatistic(items_base=frozenset({'Milk'}), items_add=frozenset({'nan'}), confidence=0.7647058823529412, lift=0.934640522875817), OrderedStatistic(items_base=frozenset({'nan'}), items_add=frozenset({'Milk'}), confidence=0.7222222222222222, lift=0.934640522875817)]), RelationRecord(items=frozenset({'Wine', 'nan'}), support=0.5454545454545454, ordered_statistics=[OrderedStatistic(items_base=frozenset({'Wine'}), items_add=frozenset({'nan'}), confidence=0.7499999999999999, lift=0.9166666666666665)]), RelationRecord(items=frozenset({'Bread', 'Butter', 'Milk'}), support=0.5, ordered_statistics=[OrderedStatistic(items_base=frozenset({'Bread', 'Butter'}), items_add=frozenset({'Milk'}), confidence=0.8461538461538461, lift=1.0950226244343892), OrderedStatistic(items_base=frozenset({'Bread', 'Milk'}), items_add=frozenset({'Butter'}), confidence=0.8461538461538461, lift=1.1634615384615383), OrderedStatistic(items_base=frozenset({'Butter', 'Milk'}), items_add=frozenset({'Bread'}), confidence=0.7857142857142857, lift=1.0803571428571428)]), RelationRecord(items=frozenset({'Bread', 'Wine', 'Milk'}), support=0.5, ordered_statistics=[OrderedStatistic(items_base=frozenset({'Bread', 'Milk'}), items_add=frozenset({'Wine'}), confidence=0.8461538461538461, lift=1.1634615384615383), OrderedStatistic(items_base=frozenset({'Bread', 'Wine'}), items_add=frozenset({'Milk'}), confidence=0.8461538461538461, lift=1.0950226244343892), OrderedStatistic(items_base=frozenset({'Wine', 'Milk'}), items_add=frozenset({'Bread'}), confidence=0.7857142857142857, lift=1.0803571428571428)]), RelationRecord(items=frozenset({'Wine', 'Butter', 'Milk'}), support=0.5, ordered_statistics=[OrderedStatistic(items_base=frozenset({'Butter', 'Milk'}), items_add=frozenset({'Wine'}), confidence=0.7857142857142857, lift=1.0803571428571428), OrderedStatistic(items_base=frozenset({'Butter', 'Wine'}), items_add=frozenset({'Milk'}), confidence=0.9166666666666667, lift=1.1862745098039218), OrderedStatistic(items_base=frozenset({'Wine', 'Milk'}), items_add=frozenset({'Butter'}), confidence=0.7857142857142857, lift=1.0803571428571428)])]\n"
     ]
    }
   ],
   "source": [
    "ar=apriori(records,min_support = 0.5, min_confidence=0.7)\n",
    "ar1=list(ar)\n",
    "print(len(ar1))\n",
    "print(ar1)"
   ]
  },
  {
   "cell_type": "code",
   "execution_count": null,
   "metadata": {},
   "outputs": [],
   "source": []
  }
 ],
 "metadata": {
  "kernelspec": {
   "display_name": "Python 3",
   "language": "python",
   "name": "python3"
  },
  "language_info": {
   "codemirror_mode": {
    "name": "ipython",
    "version": 3
   },
   "file_extension": ".py",
   "mimetype": "text/x-python",
   "name": "python",
   "nbconvert_exporter": "python",
   "pygments_lexer": "ipython3",
   "version": "3.8.3-final"
  }
 },
 "nbformat": 4,
 "nbformat_minor": 4
}